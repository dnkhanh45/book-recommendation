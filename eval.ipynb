{
 "cells": [
  {
   "cell_type": "code",
   "execution_count": 1,
   "metadata": {},
   "outputs": [],
   "source": [
    "import pandas as pd\n",
    "import numpy as np\n",
    "from tqdm.auto import tqdm\n",
    "import os\n",
    "from matplotlib import pyplot as plt\n",
    "import json\n",
    "from collections import Counter\n",
    "import math"
   ]
  },
  {
   "cell_type": "code",
   "execution_count": 2,
   "metadata": {},
   "outputs": [],
   "source": [
    "test_df = pd.read_csv('./data/test_ratings.csv')"
   ]
  },
  {
   "cell_type": "code",
   "execution_count": 3,
   "metadata": {},
   "outputs": [
    {
     "data": {
      "application/vnd.jupyter.widget-view+json": {
       "model_id": "86dd1a488a4643f2acc6165f9bcaad5c",
       "version_major": 2,
       "version_minor": 0
      },
      "text/plain": [
       "k=1:   0%|          | 0/53382 [00:00<?, ?it/s]"
      ]
     },
     "metadata": {},
     "output_type": "display_data"
    },
    {
     "name": "stdout",
     "output_type": "stream",
     "text": [
      "3.47482277291209 1\n"
     ]
    },
    {
     "data": {
      "application/vnd.jupyter.widget-view+json": {
       "model_id": "644000186dc949c49230b7aa29927be3",
       "version_major": 2,
       "version_minor": 0
      },
      "text/plain": [
       "k=5:   0%|          | 0/53382 [00:00<?, ?it/s]"
      ]
     },
     "metadata": {},
     "output_type": "display_data"
    },
    {
     "name": "stdout",
     "output_type": "stream",
     "text": [
      "3.102104707939044 5\n"
     ]
    },
    {
     "data": {
      "application/vnd.jupyter.widget-view+json": {
       "model_id": "0629211c3e4d4c7f8198107617a8528e",
       "version_major": 2,
       "version_minor": 0
      },
      "text/plain": [
       "k=10:   0%|          | 0/53382 [00:00<?, ?it/s]"
      ]
     },
     "metadata": {},
     "output_type": "display_data"
    },
    {
     "name": "stdout",
     "output_type": "stream",
     "text": [
      "2.8704025080894424 10\n"
     ]
    },
    {
     "data": {
      "application/vnd.jupyter.widget-view+json": {
       "model_id": "64d3964ecf1e42c6b687e45291447c1b",
       "version_major": 2,
       "version_minor": 0
      },
      "text/plain": [
       "k=50:   0%|          | 0/53382 [00:00<?, ?it/s]"
      ]
     },
     "metadata": {},
     "output_type": "display_data"
    },
    {
     "name": "stdout",
     "output_type": "stream",
     "text": [
      "2.3794292558144305 50\n"
     ]
    },
    {
     "data": {
      "application/vnd.jupyter.widget-view+json": {
       "model_id": "107176b72c4443efa933d0ce3841e70b",
       "version_major": 2,
       "version_minor": 0
      },
      "text/plain": [
       "k=100:   0%|          | 0/53382 [00:00<?, ?it/s]"
      ]
     },
     "metadata": {},
     "output_type": "display_data"
    },
    {
     "name": "stdout",
     "output_type": "stream",
     "text": [
      "2.339982235304019 100\n"
     ]
    }
   ],
   "source": [
    "for k in [1, 5, 10, 50, 100]:\n",
    "    se = 0.0\n",
    "    for file in tqdm(os.listdir('./result/user-user-{}'.format(k)), desc='k={}'.format(k)):\n",
    "        df = pd.read_csv('./result/user-user-{}/{}'.format(k, file))\n",
    "        diff = df['rating'].values - df['predict'].values\n",
    "        se += (diff ** 2).sum()\n",
    "    rmse = math.sqrt(se / test_df.shape[0])\n",
    "    print(rmse, k)"
   ]
  },
  {
   "cell_type": "code",
   "execution_count": 4,
   "metadata": {},
   "outputs": [
    {
     "data": {
      "application/vnd.jupyter.widget-view+json": {
       "model_id": "f68dbfb59204484db23ea6c40c4b37f5",
       "version_major": 2,
       "version_minor": 0
      },
      "text/plain": [
       "k=1:   0%|          | 0/53382 [00:00<?, ?it/s]"
      ]
     },
     "metadata": {},
     "output_type": "display_data"
    },
    {
     "name": "stdout",
     "output_type": "stream",
     "text": [
      "3.4473776663649414 1\n"
     ]
    },
    {
     "data": {
      "application/vnd.jupyter.widget-view+json": {
       "model_id": "04d318ff8bc84be1b36ef812c2ea1416",
       "version_major": 2,
       "version_minor": 0
      },
      "text/plain": [
       "k=2:   0%|          | 0/53382 [00:00<?, ?it/s]"
      ]
     },
     "metadata": {},
     "output_type": "display_data"
    },
    {
     "name": "stdout",
     "output_type": "stream",
     "text": [
      "3.4363795328732003 2\n"
     ]
    },
    {
     "data": {
      "application/vnd.jupyter.widget-view+json": {
       "model_id": "5aefc78f533844c889382b2d4e437ca1",
       "version_major": 2,
       "version_minor": 0
      },
      "text/plain": [
       "k=3:   0%|          | 0/53382 [00:00<?, ?it/s]"
      ]
     },
     "metadata": {},
     "output_type": "display_data"
    },
    {
     "name": "stdout",
     "output_type": "stream",
     "text": [
      "3.4375443401531682 3\n"
     ]
    },
    {
     "data": {
      "application/vnd.jupyter.widget-view+json": {
       "model_id": "e585f3a73be146cd8ce9603b359ba237",
       "version_major": 2,
       "version_minor": 0
      },
      "text/plain": [
       "k=4:   0%|          | 0/53382 [00:00<?, ?it/s]"
      ]
     },
     "metadata": {},
     "output_type": "display_data"
    },
    {
     "name": "stdout",
     "output_type": "stream",
     "text": [
      "3.437740978216511 4\n"
     ]
    },
    {
     "data": {
      "application/vnd.jupyter.widget-view+json": {
       "model_id": "f26ba03ed6f34bdabeae8e62e8dc3da6",
       "version_major": 2,
       "version_minor": 0
      },
      "text/plain": [
       "k=5:   0%|          | 0/53382 [00:00<?, ?it/s]"
      ]
     },
     "metadata": {},
     "output_type": "display_data"
    },
    {
     "name": "stdout",
     "output_type": "stream",
     "text": [
      "3.43701017412859 5\n"
     ]
    }
   ],
   "source": [
    "for k in [1, 2, 3, 4, 5]:\n",
    "    se = 0.0\n",
    "    for file in tqdm(os.listdir('./result/item-item-{}'.format(k)), desc='k={}'.format(k)):\n",
    "        df = pd.read_csv('./result/item-item-{}/{}'.format(k, file))\n",
    "        diff = df['rating'].values - df['predict'].values\n",
    "        se += (diff ** 2).sum()\n",
    "    rmse = math.sqrt(se / test_df.shape[0])\n",
    "    print(rmse, k)"
   ]
  },
  {
   "cell_type": "code",
   "execution_count": 5,
   "metadata": {},
   "outputs": [
    {
     "data": {
      "application/vnd.jupyter.widget-view+json": {
       "model_id": "637059312f0e458cac51ff589b250de8",
       "version_major": 2,
       "version_minor": 0
      },
      "text/plain": [
       "alpha=1.0:   0%|          | 0/53382 [00:00<?, ?it/s]"
      ]
     },
     "metadata": {},
     "output_type": "display_data"
    },
    {
     "name": "stdout",
     "output_type": "stream",
     "text": [
      "0.982660702556376 1.0\n"
     ]
    },
    {
     "data": {
      "application/vnd.jupyter.widget-view+json": {
       "model_id": "0653dc1cedf34782aed8c8a106b7050f",
       "version_major": 2,
       "version_minor": 0
      },
      "text/plain": [
       "alpha=0.5:   0%|          | 0/53382 [00:00<?, ?it/s]"
      ]
     },
     "metadata": {},
     "output_type": "display_data"
    },
    {
     "name": "stdout",
     "output_type": "stream",
     "text": [
      "1.0178050756120771 0.5\n"
     ]
    },
    {
     "data": {
      "application/vnd.jupyter.widget-view+json": {
       "model_id": "33c6e44420bf4748930f3dd59cae4561",
       "version_major": 2,
       "version_minor": 0
      },
      "text/plain": [
       "alpha=0.2:   0%|          | 0/53382 [00:00<?, ?it/s]"
      ]
     },
     "metadata": {},
     "output_type": "display_data"
    },
    {
     "name": "stdout",
     "output_type": "stream",
     "text": [
      "1.0818017860741904 0.2\n"
     ]
    },
    {
     "data": {
      "application/vnd.jupyter.widget-view+json": {
       "model_id": "15928924ba8a49fba2e3d842a59a01a3",
       "version_major": 2,
       "version_minor": 0
      },
      "text/plain": [
       "alpha=0.1:   0%|          | 0/53382 [00:00<?, ?it/s]"
      ]
     },
     "metadata": {},
     "output_type": "display_data"
    },
    {
     "name": "stdout",
     "output_type": "stream",
     "text": [
      "1.1477809510849422 0.1\n"
     ]
    },
    {
     "data": {
      "application/vnd.jupyter.widget-view+json": {
       "model_id": "c6f0c00e55ff4a41a7ccf157879bbdc6",
       "version_major": 2,
       "version_minor": 0
      },
      "text/plain": [
       "alpha=0.05:   0%|          | 0/53382 [00:00<?, ?it/s]"
      ]
     },
     "metadata": {},
     "output_type": "display_data"
    },
    {
     "name": "stdout",
     "output_type": "stream",
     "text": [
      "1.232578407031943 0.05\n"
     ]
    },
    {
     "data": {
      "application/vnd.jupyter.widget-view+json": {
       "model_id": "1bfc4b38624e49a5a8e3edb34f51a749",
       "version_major": 2,
       "version_minor": 0
      },
      "text/plain": [
       "alpha=0.02:   0%|          | 0/53382 [00:00<?, ?it/s]"
      ]
     },
     "metadata": {},
     "output_type": "display_data"
    },
    {
     "name": "stdout",
     "output_type": "stream",
     "text": [
      "1.3792149364310835 0.02\n"
     ]
    },
    {
     "data": {
      "application/vnd.jupyter.widget-view+json": {
       "model_id": "8b4b192bb0714819bcb3269209004b21",
       "version_major": 2,
       "version_minor": 0
      },
      "text/plain": [
       "alpha=0.01:   0%|          | 0/53382 [00:00<?, ?it/s]"
      ]
     },
     "metadata": {},
     "output_type": "display_data"
    },
    {
     "name": "stdout",
     "output_type": "stream",
     "text": [
      "1.5206501648055042 0.01\n"
     ]
    }
   ],
   "source": [
    "for alpha in [1.0, 0.5, 0.2, 0.1, 0.05, 0.02, 0.01]:\n",
    "    se = 0.0\n",
    "    for file in tqdm(os.listdir('./result/content-based-{}'.format(alpha)), desc='alpha={}'.format(alpha)):\n",
    "        df = pd.read_csv('./result/content-based-{}/{}'.format(alpha, file))\n",
    "        diff = df['rating'].values - df['predict'].values\n",
    "        se += (diff ** 2).sum()\n",
    "    rmse = math.sqrt(se / test_df.shape[0])\n",
    "    print(rmse, alpha)"
   ]
  }
 ],
 "metadata": {
  "kernelspec": {
   "display_name": "longnd",
   "language": "python",
   "name": "python3"
  },
  "language_info": {
   "codemirror_mode": {
    "name": "ipython",
    "version": 3
   },
   "file_extension": ".py",
   "mimetype": "text/x-python",
   "name": "python",
   "nbconvert_exporter": "python",
   "pygments_lexer": "ipython3",
   "version": "3.8.12"
  },
  "orig_nbformat": 4
 },
 "nbformat": 4,
 "nbformat_minor": 2
}
