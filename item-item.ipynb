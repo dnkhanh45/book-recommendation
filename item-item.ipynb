{
 "cells": [
  {
   "cell_type": "code",
   "execution_count": 1,
   "metadata": {},
   "outputs": [],
   "source": [
    "import pandas as pd\n",
    "import numpy as np\n",
    "from tqdm.auto import tqdm\n",
    "import os\n",
    "from matplotlib import pyplot as plt\n",
    "import json\n",
    "from collections import Counter\n",
    "import math\n",
    "from scipy.sparse import coo_matrix\n",
    "from sklearn.metrics.pairwise import cosine_similarity\n",
    "tqdm.pandas()"
   ]
  },
  {
   "cell_type": "code",
   "execution_count": 2,
   "metadata": {},
   "outputs": [],
   "source": [
    "train_df = pd.read_csv('./data/train_ratings.csv')\n",
    "test_df = pd.read_csv('./data/test_ratings.csv')\n",
    "user_ids = np.load('./data/user_ids.npy')\n",
    "book_ids = np.load('./data/book_ids.npy')"
   ]
  },
  {
   "cell_type": "code",
   "execution_count": 3,
   "metadata": {},
   "outputs": [],
   "source": [
    "uidd = dict()\n",
    "for i, uid in enumerate(user_ids):\n",
    "    uidd[uid] = i\n",
    "bidd = dict()\n",
    "for i, bid in enumerate(book_ids):\n",
    "    bidd[bid] = i"
   ]
  },
  {
   "cell_type": "code",
   "execution_count": 4,
   "metadata": {},
   "outputs": [],
   "source": [
    "train_df['user_coo'] = train_df.apply(lambda row: uidd[row['user_id']], axis=1)\n",
    "train_df['book_coo'] = train_df.apply(lambda row: bidd[row['book_id']], axis=1)"
   ]
  },
  {
   "cell_type": "code",
   "execution_count": 26,
   "metadata": {},
   "outputs": [
    {
     "data": {
      "text/plain": [
       "(53382, 10000)"
      ]
     },
     "execution_count": 26,
     "metadata": {},
     "output_type": "execute_result"
    }
   ],
   "source": [
    "matrix = coo_matrix((train_df['rating'], (train_df['user_coo'], train_df['book_coo'])), dtype=np.float32)\n",
    "matrix.shape"
   ]
  },
  {
   "cell_type": "code",
   "execution_count": 27,
   "metadata": {},
   "outputs": [
    {
     "data": {
      "text/plain": [
       "array([4.        , 4.36      , 3.76666667, ..., 4.2987013 , 3.78571429,\n",
       "       3.94666667])"
      ]
     },
     "execution_count": 27,
     "metadata": {},
     "output_type": "execute_result"
    }
   ],
   "source": [
    "book_mean = np.array((matrix.sum(axis=0) / matrix.getnnz(axis=0)).tolist()[0])\n",
    "book_mean"
   ]
  },
  {
   "cell_type": "code",
   "execution_count": 38,
   "metadata": {},
   "outputs": [],
   "source": [
    "train_df['book_mean'] = train_df.apply(lambda row: book_mean[int(row['book_coo'])], axis=1)"
   ]
  },
  {
   "cell_type": "code",
   "execution_count": 40,
   "metadata": {},
   "outputs": [
    {
     "data": {
      "text/plain": [
       "(53382, 10000)"
      ]
     },
     "execution_count": 40,
     "metadata": {},
     "output_type": "execute_result"
    }
   ],
   "source": [
    "expand_book_mean = coo_matrix((train_df['book_mean'], (train_df['user_coo'], train_df['book_coo'])), dtype=np.float32)\n",
    "expand_book_mean.shape"
   ]
  },
  {
   "cell_type": "code",
   "execution_count": 42,
   "metadata": {},
   "outputs": [
    {
     "data": {
      "text/plain": [
       "(53382, 10000)"
      ]
     },
     "execution_count": 42,
     "metadata": {},
     "output_type": "execute_result"
    }
   ],
   "source": [
    "norm_matrix = matrix - expand_book_mean\n",
    "norm_matrix.shape"
   ]
  },
  {
   "cell_type": "code",
   "execution_count": 43,
   "metadata": {},
   "outputs": [],
   "source": [
    "cosine_matrix = cosine_similarity(norm_matrix.T, norm_matrix.T)\n",
    "np.fill_diagonal(cosine_matrix, 1)"
   ]
  },
  {
   "cell_type": "code",
   "execution_count": 65,
   "metadata": {},
   "outputs": [
    {
     "data": {
      "application/vnd.jupyter.widget-view+json": {
       "model_id": "37618ce1f62f42c09ea036cf77a15d38",
       "version_major": 2,
       "version_minor": 0
      },
      "text/plain": [
       "  0%|          | 0/100 [00:00<?, ?it/s]"
      ]
     },
     "metadata": {},
     "output_type": "display_data"
    },
    {
     "name": "stderr",
     "output_type": "stream",
     "text": [
      "/tmp/ipykernel_8821/2685145050.py:18: SettingWithCopyWarning: \n",
      "A value is trying to be set on a copy of a slice from a DataFrame.\n",
      "Try using .loc[row_indexer,col_indexer] = value instead\n",
      "\n",
      "See the caveats in the documentation: https://pandas.pydata.org/pandas-docs/stable/user_guide/indexing.html#returning-a-view-versus-a-copy\n",
      "  uid_test_df['predict'] = np.array(predict)\n"
     ]
    }
   ],
   "source": [
    "k = 3\n",
    "os.makedirs('./result/item-item-{}'.format(k), exist_ok=True)\n",
    "for uid in tqdm(user_ids[:100]):\n",
    "    user_coo = uidd[uid]\n",
    "    uid_test_df = test_df[test_df['user_id'] == uid]\n",
    "    uid_train_df = train_df[train_df['user_id'] == uid]\n",
    "    predict = list()\n",
    "    rated_bids = uid_train_df['book_id'].values\n",
    "    rated_book_coo = np.array([bidd[_bid] for _bid in rated_bids])\n",
    "    bid_mean = book_mean[book_coo]\n",
    "    for bid in uid_test_df['book_id'].values:\n",
    "        book_coo = bidd[bid]\n",
    "        indices = np.argsort(cosine_matrix[book_coo, rated_book_coo])[::-1][:k]\n",
    "        choices = rated_book_coo[indices]\n",
    "        used_cosine = cosine_matrix[book_coo, choices]\n",
    "        used_rating = uid_train_df[uid_train_df['book_coo'].isin(choices)]['rating'].values\n",
    "        predict.append(used_cosine.dot(used_rating) / (np.abs(used_cosine).sum() + 1e-8) + bid_mean)\n",
    "    uid_test_df['predict'] = np.array(predict)\n",
    "    uid_test_df.to_csv('./result/item-item-{}/{}.csv'.format(k, uid), index=False)"
   ]
  },
  {
   "cell_type": "code",
   "execution_count": null,
   "metadata": {},
   "outputs": [],
   "source": []
  }
 ],
 "metadata": {
  "kernelspec": {
   "display_name": "longnd",
   "language": "python",
   "name": "python3"
  },
  "language_info": {
   "codemirror_mode": {
    "name": "ipython",
    "version": 3
   },
   "file_extension": ".py",
   "mimetype": "text/x-python",
   "name": "python",
   "nbconvert_exporter": "python",
   "pygments_lexer": "ipython3",
   "version": "3.8.12"
  },
  "orig_nbformat": 4
 },
 "nbformat": 4,
 "nbformat_minor": 2
}
