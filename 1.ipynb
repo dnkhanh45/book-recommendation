{
 "cells": [
  {
   "cell_type": "code",
   "execution_count": 179,
   "metadata": {},
   "outputs": [],
   "source": [
    "import pandas as pd\n",
    "import numpy as np\n",
    "from tqdm.auto import tqdm\n",
    "import os\n",
    "from matplotlib import pyplot as plt\n",
    "import json\n",
    "from ortools.sat.python import cp_model\n",
    "from collections import Counter\n",
    "import math"
   ]
  },
  {
   "cell_type": "code",
   "execution_count": 4,
   "metadata": {},
   "outputs": [
    {
     "data": {
      "text/plain": [
       "((10000, 23),\n",
       " Index(['id', 'book_id', 'best_book_id', 'work_id', 'books_count', 'isbn',\n",
       "        'isbn13', 'authors', 'original_publication_year', 'original_title',\n",
       "        'title', 'language_code', 'average_rating', 'ratings_count',\n",
       "        'work_ratings_count', 'work_text_reviews_count', 'ratings_1',\n",
       "        'ratings_2', 'ratings_3', 'ratings_4', 'ratings_5', 'image_url',\n",
       "        'small_image_url'],\n",
       "       dtype='object'))"
      ]
     },
     "execution_count": 4,
     "metadata": {},
     "output_type": "execute_result"
    }
   ],
   "source": [
    "data_dir = './data/'\n",
    "books = pd.read_csv(os.path.join(data_dir, 'books.csv'))\n",
    "books.shape, books.columns"
   ]
  },
  {
   "cell_type": "code",
   "execution_count": 158,
   "metadata": {},
   "outputs": [
    {
     "data": {
      "text/plain": [
       "((979436, 3), Index(['user_id', 'book_id', 'rating'], dtype='object'))"
      ]
     },
     "execution_count": 158,
     "metadata": {},
     "output_type": "execute_result"
    }
   ],
   "source": [
    "ratings = pd.read_csv(os.path.join(data_dir, 'new_filter_ratings.csv'))\n",
    "ratings.shape, ratings.columns"
   ]
  },
  {
   "cell_type": "code",
   "execution_count": 159,
   "metadata": {},
   "outputs": [
    {
     "data": {
      "text/plain": [
       "array([4, 3, 5, 1, 2])"
      ]
     },
     "execution_count": 159,
     "metadata": {},
     "output_type": "execute_result"
    }
   ],
   "source": [
    "ratings['rating'].unique()"
   ]
  },
  {
   "cell_type": "code",
   "execution_count": 160,
   "metadata": {},
   "outputs": [
    {
     "data": {
      "text/plain": [
       "12874    200\n",
       "30944    200\n",
       "12381    199\n",
       "28158    199\n",
       "52036    199\n",
       "        ... \n",
       "46124      2\n",
       "32154      2\n",
       "3207       2\n",
       "46130      2\n",
       "17384      2\n",
       "Name: user_id, Length: 53382, dtype: int64"
      ]
     },
     "execution_count": 160,
     "metadata": {},
     "output_type": "execute_result"
    }
   ],
   "source": [
    "ratings['user_id'].value_counts()"
   ]
  },
  {
   "cell_type": "code",
   "execution_count": 162,
   "metadata": {},
   "outputs": [
    {
     "name": "stderr",
     "output_type": "stream",
     "text": [
      "/tmp/ipykernel_35952/2071206498.py:3: DeprecationWarning: elementwise comparison failed; this will raise an error in the future.\n",
      "  np.all(user_ids == np.arange(user_ids.min(), user_ids.max() + 1, 1))\n"
     ]
    },
    {
     "data": {
      "text/plain": [
       "False"
      ]
     },
     "execution_count": 162,
     "metadata": {},
     "output_type": "execute_result"
    }
   ],
   "source": [
    "user_ids = ratings['user_id'].unique()\n",
    "user_ids.sort()\n",
    "np.all(user_ids == np.arange(user_ids.min(), user_ids.max() + 1, 1))"
   ]
  },
  {
   "cell_type": "code",
   "execution_count": 163,
   "metadata": {},
   "outputs": [
    {
     "data": {
      "text/plain": [
       "True"
      ]
     },
     "execution_count": 163,
     "metadata": {},
     "output_type": "execute_result"
    }
   ],
   "source": [
    "book_ids = books['id'].unique()\n",
    "book_ids.sort()\n",
    "np.all(book_ids == np.arange(book_ids.min(), book_ids.max() + 1, 1))"
   ]
  },
  {
   "cell_type": "code",
   "execution_count": 164,
   "metadata": {},
   "outputs": [
    {
     "data": {
      "text/plain": [
       "True"
      ]
     },
     "execution_count": 164,
     "metadata": {},
     "output_type": "execute_result"
    }
   ],
   "source": [
    "book_ids = ratings['book_id'].unique()\n",
    "book_ids.sort()\n",
    "np.all(book_ids == np.arange(book_ids.min(), book_ids.max() + 1, 1))"
   ]
  },
  {
   "cell_type": "code",
   "execution_count": 165,
   "metadata": {},
   "outputs": [
    {
     "data": {
      "text/html": [
       "<div>\n",
       "<style scoped>\n",
       "    .dataframe tbody tr th:only-of-type {\n",
       "        vertical-align: middle;\n",
       "    }\n",
       "\n",
       "    .dataframe tbody tr th {\n",
       "        vertical-align: top;\n",
       "    }\n",
       "\n",
       "    .dataframe thead th {\n",
       "        text-align: right;\n",
       "    }\n",
       "</style>\n",
       "<table border=\"1\" class=\"dataframe\">\n",
       "  <thead>\n",
       "    <tr style=\"text-align: right;\">\n",
       "      <th></th>\n",
       "      <th>user_id</th>\n",
       "      <th>book_id</th>\n",
       "      <th>rating</th>\n",
       "    </tr>\n",
       "  </thead>\n",
       "  <tbody>\n",
       "    <tr>\n",
       "      <th>0</th>\n",
       "      <td>1</td>\n",
       "      <td>1180</td>\n",
       "      <td>4</td>\n",
       "    </tr>\n",
       "    <tr>\n",
       "      <th>1</th>\n",
       "      <td>1</td>\n",
       "      <td>4893</td>\n",
       "      <td>3</td>\n",
       "    </tr>\n",
       "    <tr>\n",
       "      <th>2</th>\n",
       "      <td>1</td>\n",
       "      <td>6285</td>\n",
       "      <td>4</td>\n",
       "    </tr>\n",
       "    <tr>\n",
       "      <th>3</th>\n",
       "      <td>2</td>\n",
       "      <td>8034</td>\n",
       "      <td>4</td>\n",
       "    </tr>\n",
       "    <tr>\n",
       "      <th>4</th>\n",
       "      <td>2</td>\n",
       "      <td>8855</td>\n",
       "      <td>5</td>\n",
       "    </tr>\n",
       "  </tbody>\n",
       "</table>\n",
       "</div>"
      ],
      "text/plain": [
       "   user_id  book_id  rating\n",
       "0        1     1180       4\n",
       "1        1     4893       3\n",
       "2        1     6285       4\n",
       "3        2     8034       4\n",
       "4        2     8855       5"
      ]
     },
     "execution_count": 165,
     "metadata": {},
     "output_type": "execute_result"
    }
   ],
   "source": [
    "ratings.head()"
   ]
  },
  {
   "cell_type": "code",
   "execution_count": 137,
   "metadata": {},
   "outputs": [],
   "source": [
    "# def filter(s):\n",
    "#     return s.value_counts().sort_index(ascending=False).sort_values(ascending=False).index[0]\n",
    "# ratings.groupby(by=['user_id', 'book_id'], as_index=False).agg(lambda s: filter(s)).to_csv(os.path.join(data_dir, 'filter_ratings.csv'), index=False)"
   ]
  },
  {
   "cell_type": "code",
   "execution_count": 161,
   "metadata": {},
   "outputs": [],
   "source": [
    "# tmp = ratings['user_id'].value_counts()\n",
    "# ratings[~ ratings['user_id'].isin(tmp[tmp == 1].index)]['book_id'].unique()\n",
    "# book_ids.sort()\n",
    "# print(np.all(book_ids == np.arange(book_ids.min(), book_ids.max() + 1, 1)))\n",
    "# ratings = ratings[~ ratings['user_id'].isin(tmp[tmp == 1].index)]\n",
    "# ratings.to_csv(os.path.join(data_dir, 'new_filter_ratings.csv'), index=False)"
   ]
  },
  {
   "cell_type": "code",
   "execution_count": 169,
   "metadata": {},
   "outputs": [
    {
     "data": {
      "application/vnd.jupyter.widget-view+json": {
       "model_id": "6e7d6e7e4f9b4607910936680adffae1",
       "version_major": 2,
       "version_minor": 0
      },
      "text/plain": [
       "  0%|          | 0/53382 [00:00<?, ?it/s]"
      ]
     },
     "metadata": {},
     "output_type": "display_data"
    }
   ],
   "source": [
    "uid_bid = dict()\n",
    "for uid in tqdm(user_ids):\n",
    "    uid_bid[uid] = ratings[ratings['user_id'] == uid]['book_id'].to_list()"
   ]
  },
  {
   "cell_type": "code",
   "execution_count": 171,
   "metadata": {},
   "outputs": [
    {
     "data": {
      "application/vnd.jupyter.widget-view+json": {
       "model_id": "4cb6915805014aab83fdc27dc16cbc2e",
       "version_major": 2,
       "version_minor": 0
      },
      "text/plain": [
       "  0%|          | 0/10000 [00:00<?, ?it/s]"
      ]
     },
     "metadata": {},
     "output_type": "display_data"
    }
   ],
   "source": [
    "bid_uid = dict()\n",
    "for bid in tqdm(book_ids):\n",
    "    bid_uid[bid] = ratings[ratings['book_id'] == bid]['user_id'].to_list()"
   ]
  },
  {
   "cell_type": "code",
   "execution_count": 182,
   "metadata": {},
   "outputs": [],
   "source": [
    "ratio = 0.3\n",
    "model = cp_model.CpModel()\n",
    "x = dict()\n",
    "for uid in user_ids:\n",
    "    for bid in uid_bid[uid]:\n",
    "        x[uid, bid] = model.NewIntVar(0, 1, 'x[{}, {}]'.format(uid, bid))\n",
    "    model.Add(sum(x[uid, bid] for bid in uid_bid[uid]) >= max(1, math.ceil(ratio * len(uid_bid[uid]))))\n",
    "y = dict()\n",
    "for bid in book_ids:\n",
    "    y[bid] = model.NewIntVar(0, 1, 'y[{}]'.format(bid))\n",
    "    # model.Add(y[bid] == 1).OnlyEnforceIf(\n",
    "    #     sum(x[uid, bid] for uid in bid_uid[bid]) < len(bid_uid[bid])\n",
    "    # )\n",
    "    # model.Add(y[bid] == 0).OnlyEnforceIf(\n",
    "    #     sum(x[uid, bid] for uid in bid_uid[bid]) == len(bid_uid[bid])\n",
    "    # )\n",
    "    # model.Add(sum(x[uid, bid] for uid in bid_uid[bid]) < len(bid_uid[bid])).OnlyEnforceIf(y[bid] == 1)\n",
    "    # model.Add(sum(x[uid, bid] for uid in bid_uid[bid]) == len(bid_uid[bid])).OnlyEnforceIf(y[bid] == 0)\n",
    "    model.Add(sum(x[uid, bid] for uid in bid_uid[bid]) + y[bid] <= len(bid_uid[bid]))\n",
    "model.Maximize(sum(y[bid] for bid in book_ids))\n",
    "solver = cp_model.CpSolver()\n",
    "status = solver.Solve(model)"
   ]
  },
  {
   "cell_type": "code",
   "execution_count": 183,
   "metadata": {},
   "outputs": [
    {
     "name": "stdout",
     "output_type": "stream",
     "text": [
      "10000.0\n"
     ]
    }
   ],
   "source": [
    "if status in [cp_model.FEASIBLE, cp_model.OPTIMAL]:\n",
    "    print(solver.ObjectiveValue())"
   ]
  },
  {
   "cell_type": "code",
   "execution_count": 189,
   "metadata": {},
   "outputs": [
    {
     "data": {
      "application/vnd.jupyter.widget-view+json": {
       "model_id": "4deb23cc7cb549d28ccb50759f790097",
       "version_major": 2,
       "version_minor": 0
      },
      "text/plain": [
       "  0%|          | 0/53382 [00:00<?, ?it/s]"
      ]
     },
     "metadata": {},
     "output_type": "display_data"
    }
   ],
   "source": [
    "for uid in tqdm(user_ids):\n",
    "    if len(uid_bid[uid]) == sum(solver.Value(x[uid, bid]) for bid in uid_bid[uid]):\n",
    "        print(uid)"
   ]
  },
  {
   "cell_type": "code",
   "execution_count": 194,
   "metadata": {},
   "outputs": [
    {
     "data": {
      "application/vnd.jupyter.widget-view+json": {
       "model_id": "0a31d2eadd3f47fc989e36ec3be58f6d",
       "version_major": 2,
       "version_minor": 0
      },
      "text/plain": [
       "  0%|          | 0/53382 [00:00<?, ?it/s]"
      ]
     },
     "metadata": {},
     "output_type": "display_data"
    }
   ],
   "source": [
    "large_dict = dict()\n",
    "for uid in tqdm(user_ids[:]):\n",
    "    large_dict[uid] = dict()\n",
    "    for index, row in ratings[ratings['user_id'] == uid].iterrows():\n",
    "        large_dict[uid][row['book_id']] = row['rating']"
   ]
  },
  {
   "cell_type": "code",
   "execution_count": 196,
   "metadata": {},
   "outputs": [
    {
     "data": {
      "application/vnd.jupyter.widget-view+json": {
       "model_id": "34904628404e4357b07b6a0078e071db",
       "version_major": 2,
       "version_minor": 0
      },
      "text/plain": [
       "  0%|          | 0/53382 [00:00<?, ?it/s]"
      ]
     },
     "metadata": {},
     "output_type": "display_data"
    }
   ],
   "source": [
    "train_data = {\n",
    "    'user_id': list(),\n",
    "    'book_id': list(),\n",
    "    'rating': list()\n",
    "}\n",
    "test_data = {\n",
    "    'user_id': list(),\n",
    "    'book_id': list(),\n",
    "    'rating': list()\n",
    "}\n",
    "for uid in tqdm(user_ids):\n",
    "    for bid in uid_bid[uid]:\n",
    "        if solver.Value(x[uid, bid]) == 0:\n",
    "            train_data['user_id'].append(uid)\n",
    "            train_data['book_id'].append(bid)\n",
    "            train_data['rating'].append(large_dict[uid][bid])\n",
    "        else:\n",
    "            test_data['user_id'].append(uid)\n",
    "            test_data['book_id'].append(bid)\n",
    "            test_data['rating'].append(large_dict[uid][bid])"
   ]
  },
  {
   "cell_type": "code",
   "execution_count": 198,
   "metadata": {},
   "outputs": [],
   "source": [
    "train_ratings = pd.DataFrame(data=train_data)\n",
    "test_ratings = pd.DataFrame(data=test_data)"
   ]
  },
  {
   "cell_type": "code",
   "execution_count": 200,
   "metadata": {},
   "outputs": [],
   "source": [
    "train_ratings.to_csv(os.path.join(data_dir, 'train_ratings.csv'), index=False)\n",
    "test_ratings.to_csv(os.path.join(data_dir, 'test_ratings.csv'), index=False)"
   ]
  },
  {
   "cell_type": "code",
   "execution_count": null,
   "metadata": {},
   "outputs": [],
   "source": []
  }
 ],
 "metadata": {
  "kernelspec": {
   "display_name": "longnd",
   "language": "python",
   "name": "python3"
  },
  "language_info": {
   "codemirror_mode": {
    "name": "ipython",
    "version": 3
   },
   "file_extension": ".py",
   "mimetype": "text/x-python",
   "name": "python",
   "nbconvert_exporter": "python",
   "pygments_lexer": "ipython3",
   "version": "3.8.12"
  },
  "orig_nbformat": 4,
  "vscode": {
   "interpreter": {
    "hash": "9f784b053654bb8129a3cb1aa1762d7834caeb9ba8691a85058f59d7796858ce"
   }
  }
 },
 "nbformat": 4,
 "nbformat_minor": 2
}
