{
 "cells": [
  {
   "cell_type": "code",
   "execution_count": 1,
   "metadata": {},
   "outputs": [],
   "source": [
    "import pandas as pd\n",
    "import numpy as np\n",
    "from tqdm.auto import tqdm\n",
    "import os\n",
    "from matplotlib import pyplot as plt\n",
    "import json\n",
    "from ortools.sat.python import cp_model\n",
    "from collections import Counter\n",
    "import math\n",
    "from sklearn.linear_model import Ridge"
   ]
  },
  {
   "cell_type": "code",
   "execution_count": 2,
   "metadata": {},
   "outputs": [],
   "source": [
    "train_df = pd.read_csv('./data/train_ratings.csv')\n",
    "test_df = pd.read_csv('./data/test_ratings.csv')\n",
    "encode_books = np.load('./data/encode_books.npy')"
   ]
  },
  {
   "cell_type": "code",
   "execution_count": 3,
   "metadata": {},
   "outputs": [],
   "source": [
    "user_ids = train_df['user_id'].unique()\n",
    "user_ids.sort()"
   ]
  },
  {
   "cell_type": "code",
   "execution_count": 6,
   "metadata": {},
   "outputs": [
    {
     "data": {
      "application/vnd.jupyter.widget-view+json": {
       "model_id": "3441307b749046d492d46cb75f048003",
       "version_major": 2,
       "version_minor": 0
      },
      "text/plain": [
       "  0%|          | 0/5 [00:00<?, ?it/s]"
      ]
     },
     "metadata": {},
     "output_type": "display_data"
    },
    {
     "name": "stderr",
     "output_type": "stream",
     "text": [
      "/tmp/ipykernel_7852/2339026254.py:13: SettingWithCopyWarning: \n",
      "A value is trying to be set on a copy of a slice from a DataFrame.\n",
      "Try using .loc[row_indexer,col_indexer] = value instead\n",
      "\n",
      "See the caveats in the documentation: https://pandas.pydata.org/pandas-docs/stable/user_guide/indexing.html#returning-a-view-versus-a-copy\n",
      "  uid_test_df['predict'] = clf.predict(test_X)\n",
      "/tmp/ipykernel_7852/2339026254.py:13: SettingWithCopyWarning: \n",
      "A value is trying to be set on a copy of a slice from a DataFrame.\n",
      "Try using .loc[row_indexer,col_indexer] = value instead\n",
      "\n",
      "See the caveats in the documentation: https://pandas.pydata.org/pandas-docs/stable/user_guide/indexing.html#returning-a-view-versus-a-copy\n",
      "  uid_test_df['predict'] = clf.predict(test_X)\n",
      "/tmp/ipykernel_7852/2339026254.py:13: SettingWithCopyWarning: \n",
      "A value is trying to be set on a copy of a slice from a DataFrame.\n",
      "Try using .loc[row_indexer,col_indexer] = value instead\n",
      "\n",
      "See the caveats in the documentation: https://pandas.pydata.org/pandas-docs/stable/user_guide/indexing.html#returning-a-view-versus-a-copy\n",
      "  uid_test_df['predict'] = clf.predict(test_X)\n",
      "/tmp/ipykernel_7852/2339026254.py:13: SettingWithCopyWarning: \n",
      "A value is trying to be set on a copy of a slice from a DataFrame.\n",
      "Try using .loc[row_indexer,col_indexer] = value instead\n",
      "\n",
      "See the caveats in the documentation: https://pandas.pydata.org/pandas-docs/stable/user_guide/indexing.html#returning-a-view-versus-a-copy\n",
      "  uid_test_df['predict'] = clf.predict(test_X)\n",
      "/tmp/ipykernel_7852/2339026254.py:13: SettingWithCopyWarning: \n",
      "A value is trying to be set on a copy of a slice from a DataFrame.\n",
      "Try using .loc[row_indexer,col_indexer] = value instead\n",
      "\n",
      "See the caveats in the documentation: https://pandas.pydata.org/pandas-docs/stable/user_guide/indexing.html#returning-a-view-versus-a-copy\n",
      "  uid_test_df['predict'] = clf.predict(test_X)\n"
     ]
    }
   ],
   "source": [
    "seed = 3973\n",
    "alpha = 1.0\n",
    "os.makedirs('./result/content-based-{}'.format(alpha), exist_ok=True)\n",
    "for uid in tqdm(user_ids[:5]):\n",
    "    train_bids = train_df[train_df['user_id'] == uid]['book_id'].to_list()\n",
    "    train_y = train_df[train_df['user_id'] == uid]['rating'].values.astype(np.float32)\n",
    "    train_X = encode_books[[bid - 1 for bid in train_bids]]\n",
    "    clf = Ridge(alpha=alpha, random_state=seed)\n",
    "    clf.fit(train_X, train_y)\n",
    "    uid_test_df = test_df[test_df['user_id'] == uid]\n",
    "    test_bids = uid_test_df['book_id'].to_list()\n",
    "    test_X = encode_books[[bid - 1 for bid in test_bids]]\n",
    "    uid_test_df['predict'] = clf.predict(test_X)\n",
    "    uid_test_df.to_csv('./result/content-based-{}/{}.csv'.format(alpha, uid), index=False)"
   ]
  },
  {
   "cell_type": "code",
   "execution_count": 7,
   "metadata": {},
   "outputs": [
    {
     "data": {
      "text/plain": [
       "3973"
      ]
     },
     "execution_count": 7,
     "metadata": {},
     "output_type": "execute_result"
    }
   ],
   "source": [
    "clf.random_state"
   ]
  }
 ],
 "metadata": {
  "kernelspec": {
   "display_name": "longnd",
   "language": "python",
   "name": "python3"
  },
  "language_info": {
   "codemirror_mode": {
    "name": "ipython",
    "version": 3
   },
   "file_extension": ".py",
   "mimetype": "text/x-python",
   "name": "python",
   "nbconvert_exporter": "python",
   "pygments_lexer": "ipython3",
   "version": "3.8.12"
  },
  "orig_nbformat": 4,
  "vscode": {
   "interpreter": {
    "hash": "9f784b053654bb8129a3cb1aa1762d7834caeb9ba8691a85058f59d7796858ce"
   }
  }
 },
 "nbformat": 4,
 "nbformat_minor": 2
}
