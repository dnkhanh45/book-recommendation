{
 "cells": [
  {
   "cell_type": "code",
   "execution_count": 1,
   "metadata": {},
   "outputs": [],
   "source": [
    "import os\n",
    "import numpy as np\n",
    "import pandas as pd\n",
    "from tqdm.auto import tqdm"
   ]
  },
  {
   "cell_type": "code",
   "execution_count": 2,
   "metadata": {},
   "outputs": [],
   "source": [
    "user_w = np.load('./learn/matrix-factorization-50/user_w.npy')\n",
    "user_b = np.load('./learn/matrix-factorization-50/user_b.npy')\n",
    "book_w = np.load('./learn/matrix-factorization-50/book_w.npy')\n",
    "book_b = np.load('./learn/matrix-factorization-50/book_b.npy')"
   ]
  },
  {
   "cell_type": "code",
   "execution_count": 3,
   "metadata": {},
   "outputs": [],
   "source": [
    "book_ids = np.load('./data/book_ids.npy')\n",
    "user_ids = np.load('./data/user_ids.npy')\n",
    "train_ratings = pd.read_csv('./data/train_ratings.csv')\n",
    "test_ratings = pd.read_csv('./data/test_ratings.csv')"
   ]
  },
  {
   "cell_type": "code",
   "execution_count": 4,
   "metadata": {},
   "outputs": [
    {
     "data": {
      "text/plain": [
       "3.8589560486013816"
      ]
     },
     "execution_count": 4,
     "metadata": {},
     "output_type": "execute_result"
    }
   ],
   "source": [
    "mu = train_ratings['rating'].mean()\n",
    "mu"
   ]
  },
  {
   "cell_type": "code",
   "execution_count": 6,
   "metadata": {},
   "outputs": [
    {
     "name": "stderr",
     "output_type": "stream",
     "text": [
      "100%|██████████| 53382/53382 [03:58<00:00, 223.84it/s]\n"
     ]
    }
   ],
   "source": [
    "os.makedirs('./recommend', exist_ok=True)\n",
    "for user_coo in tqdm(range(user_ids.shape[0])):\n",
    "    uid = user_ids[user_coo]\n",
    "    ratings = user_w[user_coo] @ book_w.T + user_b[user_coo] * book_b + mu\n",
    "    rated_bid = train_ratings[train_ratings['user_id'] == uid]['book_id'].values\n",
    "    unrated_book_coo = np.where(~np.isin(book_ids, rated_bid))[0]\n",
    "    unrated_predict = ratings[unrated_book_coo]\n",
    "    recommend_book_coo = np.argsort(unrated_predict)[::-1][:100]\n",
    "    np.save('./recommend/{}.npy'.format(uid), book_ids[recommend_book_coo])"
   ]
  }
 ],
 "metadata": {
  "kernelspec": {
   "display_name": "longnd",
   "language": "python",
   "name": "python3"
  },
  "language_info": {
   "codemirror_mode": {
    "name": "ipython",
    "version": 3
   },
   "file_extension": ".py",
   "mimetype": "text/x-python",
   "name": "python",
   "nbconvert_exporter": "python",
   "pygments_lexer": "ipython3",
   "version": "3.7.13"
  },
  "orig_nbformat": 4
 },
 "nbformat": 4,
 "nbformat_minor": 2
}
