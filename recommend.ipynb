{
 "cells": [
  {
   "cell_type": "code",
   "execution_count": 6,
   "metadata": {},
   "outputs": [],
   "source": [
    "import os\n",
    "import numpy as np\n",
    "import pandas as pd\n",
    "from tqdm.auto import tqdm"
   ]
  },
  {
   "cell_type": "code",
   "execution_count": 13,
   "metadata": {},
   "outputs": [],
   "source": [
    "user_w = np.load('./learn/matrix-factorization-50/user_w.npy')\n",
    "user_b = np.load('./learn/matrix-factorization-50/user_b.npy')\n",
    "book_w = np.load('./learn/matrix-factorization-50/book_w.npy')\n",
    "book_b = np.load('./learn/matrix-factorization-50/book_b.npy')"
   ]
  },
  {
   "cell_type": "code",
   "execution_count": 14,
   "metadata": {},
   "outputs": [],
   "source": [
    "book_ids = np.load('./data/book_ids.npy')\n",
    "user_ids = np.load('./data/user_ids.npy')\n",
    "train_ratings = pd.read_csv('./data/train_ratings.csv')\n",
    "test_ratings = pd.read_csv('./data/test_ratings.csv')"
   ]
  },
  {
   "cell_type": "code",
   "execution_count": 15,
   "metadata": {},
   "outputs": [
    {
     "data": {
      "text/plain": [
       "3.8589560486013816"
      ]
     },
     "execution_count": 15,
     "metadata": {},
     "output_type": "execute_result"
    }
   ],
   "source": [
    "mu = train_ratings['rating'].mean()\n",
    "mu"
   ]
  },
  {
   "cell_type": "code",
   "execution_count": 10,
   "metadata": {},
   "outputs": [
    {
     "data": {
      "application/vnd.jupyter.widget-view+json": {
       "model_id": "01c1940041b3442f968c9b57e6138030",
       "version_major": 2,
       "version_minor": 0
      },
      "text/plain": [
       "  0%|          | 0/53382 [00:00<?, ?it/s]"
      ]
     },
     "metadata": {},
     "output_type": "display_data"
    }
   ],
   "source": [
    "os.makedirs('./recommend/matrix-factorization', exist_ok=True)\n",
    "for user_coo in tqdm(range(user_ids.shape[0])):\n",
    "    uid = user_ids[user_coo]\n",
    "    ratings = user_w[user_coo] @ book_w.T + user_b[user_coo] * book_b + mu\n",
    "    rated_bid = train_ratings[train_ratings['user_id'] == uid]['book_id'].values\n",
    "    unrated_book_coo = np.where(~np.isin(book_ids, rated_bid))[0]\n",
    "    unrated_predict = ratings[unrated_book_coo]\n",
    "    recommend_book_coo = np.argsort(unrated_predict)[::-1][:100]\n",
    "    np.save('./recommend/matrix-factorization/{}.npy'.format(uid), book_ids[unrated_book_coo][recommend_book_coo])"
   ]
  },
  {
   "cell_type": "code",
   "execution_count": 30,
   "metadata": {},
   "outputs": [],
   "source": [
    "user_w = np.load('./learn/content-based-1.0/user_w.npy')\n",
    "user_b = np.load('./learn/content-based-1.0/user_b.npy')\n",
    "encode_books = np.load('./data/encode_books.npy')"
   ]
  },
  {
   "cell_type": "code",
   "execution_count": 32,
   "metadata": {},
   "outputs": [
    {
     "data": {
      "application/vnd.jupyter.widget-view+json": {
       "model_id": "178849cc1a71400ca762cace2e68243c",
       "version_major": 2,
       "version_minor": 0
      },
      "text/plain": [
       "  0%|          | 0/53382 [00:00<?, ?it/s]"
      ]
     },
     "metadata": {},
     "output_type": "display_data"
    }
   ],
   "source": [
    "os.makedirs('./recommend/content-based', exist_ok=True)\n",
    "for user_coo in tqdm(range(user_ids.shape[0])):\n",
    "    uid = user_ids[user_coo]\n",
    "    ratings = user_w[user_coo] @ encode_books.T + user_b[user_coo]\n",
    "    rated_bid = train_ratings[train_ratings['user_id'] == uid]['book_id'].values\n",
    "    unrated_book_coo = np.where(~np.isin(book_ids, rated_bid))[0]\n",
    "    unrated_predict = ratings[unrated_book_coo]\n",
    "    recommend_book_coo = np.argsort(unrated_predict)[::-1][:100]\n",
    "    np.save('./recommend/content-based/{}.npy'.format(uid), book_ids[unrated_book_coo][recommend_book_coo])"
   ]
  }
 ],
 "metadata": {
  "kernelspec": {
   "display_name": "longnd",
   "language": "python",
   "name": "python3"
  },
  "language_info": {
   "codemirror_mode": {
    "name": "ipython",
    "version": 3
   },
   "file_extension": ".py",
   "mimetype": "text/x-python",
   "name": "python",
   "nbconvert_exporter": "python",
   "pygments_lexer": "ipython3",
   "version": "3.7.13"
  },
  "orig_nbformat": 4
 },
 "nbformat": 4,
 "nbformat_minor": 2
}
