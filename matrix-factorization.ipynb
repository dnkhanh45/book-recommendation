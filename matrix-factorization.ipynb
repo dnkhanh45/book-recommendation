{
 "cells": [
  {
   "cell_type": "code",
   "execution_count": 1,
   "metadata": {},
   "outputs": [],
   "source": [
    "import pandas as pd\n",
    "import numpy as np\n",
    "from tqdm.auto import tqdm\n",
    "import os\n",
    "from matplotlib import pyplot as plt\n",
    "import json\n",
    "from collections import Counter\n",
    "import math\n",
    "tqdm.pandas()\n",
    "import torch"
   ]
  },
  {
   "cell_type": "code",
   "execution_count": 2,
   "metadata": {},
   "outputs": [],
   "source": [
    "train_df = pd.read_csv('./data/train_ratings.csv')\n",
    "test_df = pd.read_csv('./data/test_ratings.csv')\n",
    "user_ids = np.load('./data/user_ids.npy')\n",
    "book_ids = np.load('./data/book_ids.npy')"
   ]
  },
  {
   "cell_type": "code",
   "execution_count": 3,
   "metadata": {},
   "outputs": [],
   "source": [
    "uidd = dict()\n",
    "for i, uid in enumerate(user_ids):\n",
    "    uidd[uid] = i\n",
    "bidd = dict()\n",
    "for i, bid in enumerate(book_ids):\n",
    "    bidd[bid] = i"
   ]
  },
  {
   "cell_type": "code",
   "execution_count": 4,
   "metadata": {},
   "outputs": [],
   "source": [
    "# large_dict = dict()\n",
    "# for uid in tqdm(user_ids[:]):\n",
    "#     large_dict[uid] = dict()\n",
    "#     for index, row in train_df[train_df['user_id'] == uid].iterrows():\n",
    "#         large_dict[uid][row['book_id']] = row['rating']"
   ]
  },
  {
   "cell_type": "code",
   "execution_count": 5,
   "metadata": {},
   "outputs": [
    {
     "data": {
      "text/plain": [
       "device(type='cuda')"
      ]
     },
     "execution_count": 5,
     "metadata": {},
     "output_type": "execute_result"
    }
   ],
   "source": [
    "device = torch.device('cuda')\n",
    "device"
   ]
  },
  {
   "cell_type": "code",
   "execution_count": 6,
   "metadata": {},
   "outputs": [],
   "source": [
    "dim = 100\n",
    "U = torch.zeros(user_ids.shape[0], dim, requires_grad=True)\n",
    "B = torch.zeros(book_ids.shape[0], dim, requires_grad=True)"
   ]
  },
  {
   "cell_type": "code",
   "execution_count": 7,
   "metadata": {},
   "outputs": [
    {
     "data": {
      "text/plain": [
       "tensor([[-0.0215, -0.0112, -0.0090,  ...,  0.0062, -0.0075,  0.0044],\n",
       "        [-0.0240,  0.0005,  0.0042,  ...,  0.0118, -0.0242, -0.0058],\n",
       "        [ 0.0119, -0.0082,  0.0002,  ..., -0.0236,  0.0187, -0.0154],\n",
       "        ...,\n",
       "        [-0.0229, -0.0087,  0.0049,  ...,  0.0168,  0.0058,  0.0063],\n",
       "        [-0.0042, -0.0183,  0.0152,  ...,  0.0002, -0.0026, -0.0232],\n",
       "        [ 0.0152, -0.0146, -0.0042,  ...,  0.0152, -0.0022,  0.0053]],\n",
       "       requires_grad=True)"
      ]
     },
     "execution_count": 7,
     "metadata": {},
     "output_type": "execute_result"
    }
   ],
   "source": [
    "seed = 3973\n",
    "torch.manual_seed(seed=seed)\n",
    "torch.nn.init.xavier_uniform_(U)\n",
    "torch.nn.init.xavier_uniform_(B)"
   ]
  },
  {
   "cell_type": "code",
   "execution_count": 9,
   "metadata": {},
   "outputs": [],
   "source": [
    "mu = train_df['rating'].mean()"
   ]
  },
  {
   "cell_type": "code",
   "execution_count": 61,
   "metadata": {},
   "outputs": [
    {
     "name": "stdout",
     "output_type": "stream",
     "text": [
      "x: tensor([3., 4.], requires_grad=True)\n",
      "y: tensor(25., grad_fn=<SumBackward0>)\n",
      "x.grad : tensor([6., 8.])\n"
     ]
    }
   ],
   "source": [
    "# import torch library\n",
    "import torch\n",
    "\n",
    "# create tensors with requires_grad = true\n",
    "x = torch.tensor([3.0, 4.0], requires_grad = True)\n",
    "\n",
    "# print the tensor\n",
    "print(\"x:\", x)\n",
    "\n",
    "# define a function y for the tensor, x\n",
    "y = (x**2).sum()\n",
    "# y = y.sum()\n",
    "print(\"y:\", y)\n",
    "\n",
    "# Compute gradients using backward function for y\n",
    "y.backward()\n",
    "\n",
    "# Access the gradients using x.grad\n",
    "dx = x.grad\n",
    "print(\"x.grad :\", dx)"
   ]
  },
  {
   "cell_type": "code",
   "execution_count": null,
   "metadata": {},
   "outputs": [],
   "source": []
  }
 ],
 "metadata": {
  "kernelspec": {
   "display_name": "longnd",
   "language": "python",
   "name": "python3"
  },
  "language_info": {
   "codemirror_mode": {
    "name": "ipython",
    "version": 3
   },
   "file_extension": ".py",
   "mimetype": "text/x-python",
   "name": "python",
   "nbconvert_exporter": "python",
   "pygments_lexer": "ipython3",
   "version": "3.8.12"
  },
  "orig_nbformat": 4
 },
 "nbformat": 4,
 "nbformat_minor": 2
}
